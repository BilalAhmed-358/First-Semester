{
 "cells": [
  {
   "cell_type": "markdown",
   "metadata": {},
   "source": [
    "# Question 01\n",
    "### Write a Python program to calculate the length of your name.\n",
    "# Answer:"
   ]
  },
  {
   "cell_type": "code",
   "execution_count": 178,
   "metadata": {},
   "outputs": [
    {
     "data": {
      "text/plain": [
       "16"
      ]
     },
     "execution_count": 178,
     "metadata": {},
     "output_type": "execute_result"
    }
   ],
   "source": [
    "name = \"Bilal Ahmed Khan\"\n",
    "len(name)"
   ]
  },
  {
   "cell_type": "markdown",
   "metadata": {},
   "source": [
    "# Question 02\n",
    "### Write a Python program to get a string made of the first 2 and the last 2 chars from a given a string. (consider your name as string). Also swap the position of these chars: Take your name as input and print the sentences like this :\n",
    "### The first 2 and the last 2 chars of  …Anabia…. is …. Ania\n",
    "### The swapping of the first 2 and the last 2 chars :  iaabAn\n",
    "\n",
    "# Answer:"
   ]
  },
  {
   "cell_type": "code",
   "execution_count": 179,
   "metadata": {},
   "outputs": [
    {
     "name": "stdout",
     "output_type": "stream",
     "text": [
      "The first and the last two characters of ... Bilal ... is...  Bial\n"
     ]
    }
   ],
   "source": [
    "name = \"Bilal\"\n",
    "print(\"The first and the last two characters of ...\",name,\"... is... \",name[0:2]+name[-2:])"
   ]
  },
  {
   "cell_type": "code",
   "execution_count": 180,
   "metadata": {},
   "outputs": [
    {
     "name": "stdout",
     "output_type": "stream",
     "text": [
      "The swapping of the first 2 and the last 2 chars: allBi\n"
     ]
    }
   ],
   "source": [
    "print(\"The swapping of the first 2 and the last 2 chars:\", name[3:]+name[2]+name[0:2])"
   ]
  },
  {
   "cell_type": "markdown",
   "metadata": {},
   "source": [
    "# Question 03\n",
    "### Write a Python program to get a single string from two given strings, separated by a space. (consider your name as string)\n",
    "### Sample String : 'AnabiaKhan'\n",
    "### Expected Result : 'Anbia',’Khan’\n",
    "\n",
    "# Answer"
   ]
  },
  {
   "cell_type": "code",
   "execution_count": 181,
   "metadata": {},
   "outputs": [
    {
     "data": {
      "text/plain": [
       "['Bilal', 'Ahmed']"
      ]
     },
     "execution_count": 181,
     "metadata": {},
     "output_type": "execute_result"
    }
   ],
   "source": [
    "name= \"Bilal Ahmed\"\n",
    "name.split(' ')"
   ]
  },
  {
   "cell_type": "markdown",
   "metadata": {},
   "source": [
    "# Question 04\n",
    "### Write a Python program to get a string from a given string where  first char have been changed to 'Dollar Sign' \n",
    "### Sample String : 'restart'\n",
    "### Expected Result : '$estart'. \n",
    "\n",
    "# Answer"
   ]
  },
  {
   "cell_type": "code",
   "execution_count": 182,
   "metadata": {},
   "outputs": [],
   "source": [
    "sample= \"Sanitize\""
   ]
  },
  {
   "cell_type": "code",
   "execution_count": 183,
   "metadata": {
    "scrolled": true
   },
   "outputs": [
    {
     "name": "stdout",
     "output_type": "stream",
     "text": [
      "Sanitize\n"
     ]
    },
    {
     "data": {
      "text/plain": [
       "'$anitize'"
      ]
     },
     "execution_count": 183,
     "metadata": {},
     "output_type": "execute_result"
    }
   ],
   "source": [
    "print (sample)\n",
    "sample.replace('S','$')"
   ]
  },
  {
   "cell_type": "markdown",
   "metadata": {},
   "source": [
    "# Question 05\n",
    "### 5.\tWrite a Python program to check the characters of your name match with fist chars of your father name. \n",
    "### Sample String : a = 'Anabia'  b = ‘Khan \n",
    "### Expected Result : b[0] = a[0] or a[1] or  b[2]   ---- True / False\n",
    "\n",
    "# Answer"
   ]
  },
  {
   "cell_type": "code",
   "execution_count": 184,
   "metadata": {},
   "outputs": [
    {
     "data": {
      "text/plain": [
       "(False, False)"
      ]
     },
     "execution_count": 184,
     "metadata": {},
     "output_type": "execute_result"
    }
   ],
   "source": [
    "MyName=\"Bilal\" \n",
    "FatherName=\"Irfan\"\n",
    "MyName[0]==FatherName[0], MyName[1]==FatherName[1]"
   ]
  },
  {
   "cell_type": "markdown",
   "metadata": {},
   "source": [
    "# Question 06\n",
    "### Write a Python code to insert a char to replace the first char of a string. \n",
    "# Answer"
   ]
  },
  {
   "cell_type": "code",
   "execution_count": 185,
   "metadata": {},
   "outputs": [],
   "source": [
    "str1= \"AppliedPhysics\""
   ]
  },
  {
   "cell_type": "code",
   "execution_count": 186,
   "metadata": {},
   "outputs": [
    {
     "data": {
      "text/plain": [
       "'appliedPhysics'"
      ]
     },
     "execution_count": 186,
     "metadata": {},
     "output_type": "execute_result"
    }
   ],
   "source": [
    "str1.replace ('A','a')"
   ]
  },
  {
   "cell_type": "markdown",
   "metadata": {},
   "source": [
    "# Question 07\n",
    "### Write a Python program to reverse a string\n",
    "# Answer:"
   ]
  },
  {
   "cell_type": "code",
   "execution_count": 187,
   "metadata": {},
   "outputs": [
    {
     "data": {
      "text/plain": [
       "'dabamalsI'"
      ]
     },
     "execution_count": 187,
     "metadata": {},
     "output_type": "execute_result"
    }
   ],
   "source": [
    "city=\"Islamabad\"\n",
    "city[::-1]"
   ]
  },
  {
   "cell_type": "code",
   "execution_count": null,
   "metadata": {},
   "outputs": [],
   "source": []
  }
 ],
 "metadata": {
  "kernelspec": {
   "display_name": "Python 3",
   "language": "python",
   "name": "python3"
  },
  "language_info": {
   "codemirror_mode": {
    "name": "ipython",
    "version": 3
   },
   "file_extension": ".py",
   "mimetype": "text/x-python",
   "name": "python",
   "nbconvert_exporter": "python",
   "pygments_lexer": "ipython3",
   "version": "3.8.3"
  }
 },
 "nbformat": 4,
 "nbformat_minor": 4
}
